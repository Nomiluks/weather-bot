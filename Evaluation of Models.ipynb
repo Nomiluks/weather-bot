{
 "cells": [
  {
   "cell_type": "code",
   "execution_count": 1,
   "metadata": {},
   "outputs": [
    {
     "name": "stdout",
     "output_type": "stream",
     "text": [
      "/anaconda3/envs/python36/lib/python3.6/runpy.py:125: RuntimeWarning: 'rasa_nlu.test' found in sys.modules after import of package 'rasa_nlu', but prior to execution of 'rasa_nlu.test'; this may result in unpredictable behaviour\n",
      "  warn(RuntimeWarning(msg))\n",
      "2019-06-11 00:52:29 \u001b[1;30mINFO    \u001b[0m \u001b[34mrasa_nlu.components\u001b[0m  - Added 'SpacyNLP' to component cache. Key 'SpacyNLP-en'.\n",
      "2019-06-11 00:52:29 \u001b[1;30mINFO    \u001b[0m \u001b[34mrasa_nlu.training_data.loading\u001b[0m  - Training data format of data/data_nlu.md is md\n",
      "2019-06-11 00:52:29 \u001b[1;30mINFO    \u001b[0m \u001b[34mrasa_nlu.training_data.training_data\u001b[0m  - Training data stats: \n",
      "\t- intent examples: 29 (3 distinct intents)\n",
      "\t- Found intents: 'goodbye', 'inform', 'greet'\n",
      "\t- entity examples: 13 (1 distinct entities)\n",
      "\t- found entities: 'location'\n",
      "\n",
      "2019-06-11 00:52:29 \u001b[1;30mINFO    \u001b[0m \u001b[34m__main__\u001b[0m  - Running model for predictions:\n",
      "100%|██████████████████████████████████████████| 29/29 [00:00<00:00, 212.35it/s]\n",
      "2019-06-11 00:52:29 \u001b[1;30mINFO    \u001b[0m \u001b[34m__main__\u001b[0m  - Intent evaluation results:\n",
      "2019-06-11 00:52:29 \u001b[1;30mINFO    \u001b[0m \u001b[34m__main__\u001b[0m  - Intent Evaluation: Only considering those 29 examples that have a defined intent out of 29 examples\n",
      "2019-06-11 00:52:29 \u001b[1;30mINFO    \u001b[0m \u001b[34m__main__\u001b[0m  - F1-Score:  1.0\n",
      "2019-06-11 00:52:29 \u001b[1;30mINFO    \u001b[0m \u001b[34m__main__\u001b[0m  - Precision: 1.0\n",
      "2019-06-11 00:52:29 \u001b[1;30mINFO    \u001b[0m \u001b[34m__main__\u001b[0m  - Accuracy:  1.0\n",
      "2019-06-11 00:52:29 \u001b[1;30mINFO    \u001b[0m \u001b[34m__main__\u001b[0m  - Classification report: \n",
      "              precision    recall  f1-score   support\n",
      "\n",
      "     goodbye       1.00      1.00      1.00         6\n",
      "       greet       1.00      1.00      1.00         7\n",
      "      inform       1.00      1.00      1.00        16\n",
      "\n",
      "   micro avg       1.00      1.00      1.00        29\n",
      "   macro avg       1.00      1.00      1.00        29\n",
      "weighted avg       1.00      1.00      1.00        29\n",
      "\n",
      "2019-06-11 00:52:29 \u001b[1;30mINFO    \u001b[0m \u001b[34m__main__\u001b[0m  - Your model made no errors\n",
      "2019-06-11 00:52:31 \u001b[1;30mINFO    \u001b[0m \u001b[34m__main__\u001b[0m  - Confusion matrix, without normalization: \n",
      "[[ 6  0  0]\n",
      " [ 0  7  0]\n",
      " [ 0  0 16]]\n",
      "Figure(2000x2000)\n",
      "Figure(1000x1000)\n",
      "2019-06-11 00:52:33 \u001b[1;30mINFO    \u001b[0m \u001b[34m__main__\u001b[0m  - Entity evaluation results:\n",
      "2019-06-11 00:52:33 \u001b[1;30mINFO    \u001b[0m \u001b[34m__main__\u001b[0m  - Evaluation for entity extractor: CRFEntityExtractor \n",
      "2019-06-11 00:52:33 \u001b[1;30mINFO    \u001b[0m \u001b[34m__main__\u001b[0m  - F1-Score:  1.0\n",
      "2019-06-11 00:52:33 \u001b[1;30mINFO    \u001b[0m \u001b[34m__main__\u001b[0m  - Precision: 1.0\n",
      "2019-06-11 00:52:33 \u001b[1;30mINFO    \u001b[0m \u001b[34m__main__\u001b[0m  - Accuracy:  1.0\n",
      "2019-06-11 00:52:33 \u001b[1;30mINFO    \u001b[0m \u001b[34m__main__\u001b[0m  - Classification report: \n",
      "              precision    recall  f1-score   support\n",
      "\n",
      "    location       1.00      1.00      1.00        13\n",
      "   no_entity       1.00      1.00      1.00       124\n",
      "\n",
      "   micro avg       1.00      1.00      1.00       137\n",
      "   macro avg       1.00      1.00      1.00       137\n",
      "weighted avg       1.00      1.00      1.00       137\n",
      "\n",
      "2019-06-11 00:52:33 \u001b[1;30mINFO    \u001b[0m \u001b[34m__main__\u001b[0m  - Finished evaluation\n"
     ]
    }
   ],
   "source": [
    "!python3 -m rasa_nlu.test --data data/data_nlu.md --model models/nlu/default/weathernlu/"
   ]
  },
  {
   "cell_type": "code",
   "execution_count": 3,
   "metadata": {
    "scrolled": false
   },
   "outputs": [],
   "source": [
    "# !python3 -m rasa_core.test --core models/dialogue  --stories data/stories.md -o results"
   ]
  },
  {
   "cell_type": "code",
   "execution_count": null,
   "metadata": {},
   "outputs": [],
   "source": []
  }
 ],
 "metadata": {
  "kernelspec": {
   "display_name": "Python [conda env:python36] *",
   "language": "python",
   "name": "conda-env-python36-py"
  },
  "language_info": {
   "codemirror_mode": {
    "name": "ipython",
    "version": 3
   },
   "file_extension": ".py",
   "mimetype": "text/x-python",
   "name": "python",
   "nbconvert_exporter": "python",
   "pygments_lexer": "ipython3",
   "version": "3.6.8"
  }
 },
 "nbformat": 4,
 "nbformat_minor": 2
}
